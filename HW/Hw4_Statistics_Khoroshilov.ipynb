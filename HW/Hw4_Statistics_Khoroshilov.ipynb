{
 "cells": [
  {
   "cell_type": "markdown",
   "metadata": {
    "id": "JV_DFHwgFLxt"
   },
   "source": [
    "# Анализ и прогнозирование неоднородных временных рядов, БИ\n",
    "\n",
    "## НИУ ВШЭ, 2022-23 учебный год"
   ]
  },
  {
   "cell_type": "markdown",
   "metadata": {
    "id": "fdTH3pxXFLxw"
   },
   "source": [
    "### Домашнее задание №4. Математическая статистика в анализе данных"
   ]
  },
  {
   "cell_type": "markdown",
   "metadata": {
    "id": "Sk5URBvkFLxx"
   },
   "source": [
    "Задание выполнил(а): Хорошилов Артём"
   ]
  },
  {
   "cell_type": "markdown",
   "metadata": {
    "id": "kqVyveO4FLxx"
   },
   "source": [
    "### Общая информация"
   ]
  },
  {
   "cell_type": "markdown",
   "metadata": {
    "id": "2A0wmBWwFLxx"
   },
   "source": [
    "__Дата выдачи:__ 22.11.2022\n",
    "\n",
    "__Дедлайн:__ 04:00 07.12.2022"
   ]
  },
  {
   "cell_type": "markdown",
   "metadata": {
    "id": "qK8Ari9eFLxz"
   },
   "source": [
    "### Оценивание и штрафы\n",
    "\n",
    "Каждое задание оценивается в 4 балла.\n",
    "\n",
    "Оценка за ДЗ вычисляется по следующей формуле:\n",
    "\n",
    "$$\n",
    "s_{\\text{stat}} \\times 1/2 ,\n",
    "$$\n",
    "\n",
    "где $s_{\\text{stat}}$  — количество баллов, которое вы набрали в сумме по всем заданиям.\n",
    "\n",
    "За сдачу домашнего задания позже срока на итоговую оценку за задание накладывается штраф в размере 1 **вторичный** балл в день, но  задержка не может быть больше недели."
   ]
  },
  {
   "cell_type": "markdown",
   "metadata": {
    "id": "nEGThfK6FLx0"
   },
   "source": [
    "__Внимание!__ Домашнее задание выполняется самостоятельно. «Похожие» решения считаются плагиатом и все задействованные студенты (в том числе те, у кого списали) не могут получить за него больше 0 баллов."
   ]
  },
  {
   "cell_type": "markdown",
   "metadata": {
    "id": "zNja-u8vFLx0"
   },
   "source": [
    "### Формат сдачи"
   ]
  },
  {
   "cell_type": "markdown",
   "metadata": {
    "id": "_H-cf8uaFLx0"
   },
   "source": [
    "Загрузка файлов с решениями происходит в системе [Anytask](https://anytask.org/). Необходимо загружать файл с расширением .ipynb (питоновский ноутбук)\n",
    "\n",
    "Инвайт для подключения к странице курса в системе - указан для каждой группы в нашем телеграмм-канале"
   ]
  },
  {
   "cell_type": "markdown",
   "metadata": {
    "id": "TEVawss2FLxy"
   },
   "source": [
    "### О задании"
   ]
  },
  {
   "cell_type": "markdown",
   "metadata": {
    "id": "NXNpYAFdFLxz"
   },
   "source": [
    "В данном домашнем задании вы попрактикуетесь в решении реальных бизнес-задач, связанных с анализом данных и применением методов математической статистики в таких задачах. В данном домашнем задании вам, возможно, понадобится больше чем обычно гуглить и читать различные статьи, получая информацию, при чем не только практического, но и теоретического характера. Это ***нормально*** и как раз поможет разобраться вам в материале, через изучение тех или иных вещей самостоятельно в понятном и комфортном для вас темпе."
   ]
  },
  {
   "cell_type": "markdown",
   "metadata": {
    "id": "ApiPWJygFLx2"
   },
   "source": [
    "Обратите внимание, что фактически во всех заданиях вам потребуется написать какой-то текст в виде вывода/результата/итога/какого-то резюме. Пожалуйста, не ленитесь, и пишите выводы ***подробно***, поскольку большая часть баллов будет выставляться именно за выводы, так как в анализе данных именно они имеют ключевое, итоговое значение и результат. Текст выводов/комментариев пишите в отдельных ячейках, используя средства текстового редактора Jupyter Notebook/Google Colab, при необходимости используйте средства *выделения*. Написанные выводы подтверждайте выполненным кодом программы."
   ]
  },
  {
   "cell_type": "markdown",
   "metadata": {
    "id": "XL0GwdaNlvId"
   },
   "source": [
    "При выполненнии заданий в данном домашнем задании нет никаких ограничений на используемые библиотеки и применяемые вами методы, функционал."
   ]
  },
  {
   "cell_type": "code",
   "execution_count": 5,
   "metadata": {},
   "outputs": [],
   "source": [
    "import matplotlib.pyplot as plt\n",
    "import pandas as pd\n",
    "import numpy as np\n",
    "import copy\n",
    "%matplotlib inline"
   ]
  },
  {
   "cell_type": "markdown",
   "metadata": {
    "id": "EFMOJE59mHTm"
   },
   "source": [
    "### Задание 1"
   ]
  },
  {
   "cell_type": "markdown",
   "metadata": {
    "id": "x1zrhyiFhyiC"
   },
   "source": [
    "\n",
    "Проанализировать набор данных и ответить на следующие вопросы:\n",
    "\n",
    "1) Какой % наблюдений выходит за 5 и 95 перцентиль?\n",
    "\n",
    "2) Какому закону распределения отвечают данные? На основе чего вы так решили?\n",
    "\n",
    "[Ссылка на данные](https://drive.google.com/file/d/1fc8BGSjDiwbZW6rcr3mMSwAjU2T_BpGW/view?usp=sharing)\n",
    "\n",
    "Описание данных:\n",
    "\n",
    "* metrics -- значение определенной метрики в сервисе для пользователя (например, количество кликов). \n",
    "\n",
    "\n",
    "*Вместе с ответом на задание приложить код*"
   ]
  },
  {
   "cell_type": "code",
   "execution_count": 6,
   "metadata": {
    "id": "27DXFqhHhyiF"
   },
   "outputs": [
    {
     "name": "stdout",
     "output_type": "stream",
     "text": [
      "(306839, 1)\n"
     ]
    },
    {
     "data": {
      "text/html": [
       "<div>\n",
       "<style scoped>\n",
       "    .dataframe tbody tr th:only-of-type {\n",
       "        vertical-align: middle;\n",
       "    }\n",
       "\n",
       "    .dataframe tbody tr th {\n",
       "        vertical-align: top;\n",
       "    }\n",
       "\n",
       "    .dataframe thead th {\n",
       "        text-align: right;\n",
       "    }\n",
       "</style>\n",
       "<table border=\"1\" class=\"dataframe\">\n",
       "  <thead>\n",
       "    <tr style=\"text-align: right;\">\n",
       "      <th></th>\n",
       "      <th>metrics</th>\n",
       "    </tr>\n",
       "  </thead>\n",
       "  <tbody>\n",
       "    <tr>\n",
       "      <th>0</th>\n",
       "      <td>1</td>\n",
       "    </tr>\n",
       "    <tr>\n",
       "      <th>1</th>\n",
       "      <td>1</td>\n",
       "    </tr>\n",
       "    <tr>\n",
       "      <th>2</th>\n",
       "      <td>4</td>\n",
       "    </tr>\n",
       "    <tr>\n",
       "      <th>3</th>\n",
       "      <td>1</td>\n",
       "    </tr>\n",
       "    <tr>\n",
       "      <th>4</th>\n",
       "      <td>1</td>\n",
       "    </tr>\n",
       "    <tr>\n",
       "      <th>306834</th>\n",
       "      <td>8</td>\n",
       "    </tr>\n",
       "    <tr>\n",
       "      <th>306835</th>\n",
       "      <td>11</td>\n",
       "    </tr>\n",
       "    <tr>\n",
       "      <th>306836</th>\n",
       "      <td>1</td>\n",
       "    </tr>\n",
       "    <tr>\n",
       "      <th>306837</th>\n",
       "      <td>81</td>\n",
       "    </tr>\n",
       "    <tr>\n",
       "      <th>306838</th>\n",
       "      <td>1</td>\n",
       "    </tr>\n",
       "  </tbody>\n",
       "</table>\n",
       "</div>"
      ],
      "text/plain": [
       "        metrics\n",
       "0             1\n",
       "1             1\n",
       "2             4\n",
       "3             1\n",
       "4             1\n",
       "306834        8\n",
       "306835       11\n",
       "306836        1\n",
       "306837       81\n",
       "306838        1"
      ]
     },
     "execution_count": 6,
     "metadata": {},
     "output_type": "execute_result"
    }
   ],
   "source": [
    "test1= pd.read_csv('/Users/artemhorosilov/Downloads/test_1_1.csv', delimiter=';')\n",
    "test1=test1.drop(columns=['Unnamed: 0'])\n",
    "print(test1.shape)\n",
    "pd.concat([test1.head(), test1.tail()])"
   ]
  },
  {
   "cell_type": "code",
   "execution_count": 7,
   "metadata": {},
   "outputs": [
    {
     "name": "stdout",
     "output_type": "stream",
     "text": [
      "1.0 52.0\n"
     ]
    }
   ],
   "source": [
    "val1=test1.metrics.quantile(0.05)\n",
    "val2=test1.metrics.quantile(0.95)\n",
    "print(val1, val2)"
   ]
  },
  {
   "cell_type": "code",
   "execution_count": 8,
   "metadata": {},
   "outputs": [
    {
     "name": "stdout",
     "output_type": "stream",
     "text": [
      "56.967334660848195\n"
     ]
    }
   ],
   "source": [
    "Vt1=test1[test1[\"metrics\"]>val1]\n",
    "Vt1.shape\n",
    "print((Vt1.shape[0]*100)/test1.shape[0])"
   ]
  },
  {
   "cell_type": "code",
   "execution_count": 9,
   "metadata": {},
   "outputs": [
    {
     "name": "stdout",
     "output_type": "stream",
     "text": [
      "4.987306046493438\n"
     ]
    }
   ],
   "source": [
    "Vt2=test1[test1[\"metrics\"]>val2]\n",
    "Vt2.shape\n",
    "print((Vt2.shape[0]*100)/test1.shape[0])"
   ]
  },
  {
   "cell_type": "markdown",
   "metadata": {},
   "source": [
    "#### Вывод1:\n",
    "За пятый процентиль выходит 57% данных, за 95 перцентиль выходит 5% данных"
   ]
  },
  {
   "cell_type": "markdown",
   "metadata": {},
   "source": [
    "##### Второй пункт"
   ]
  },
  {
   "cell_type": "markdown",
   "metadata": {},
   "source": [
    "Установим и импортируем библиотеку, которая сравнивает 80 распределений с нашими данными."
   ]
  },
  {
   "cell_type": "code",
   "execution_count": null,
   "metadata": {},
   "outputs": [],
   "source": [
    "!pip install fitter"
   ]
  },
  {
   "cell_type": "code",
   "execution_count": 37,
   "metadata": {
    "scrolled": true
   },
   "outputs": [
    {
     "name": "stderr",
     "output_type": "stream",
     "text": [
      "Fitting 109 distributions:   0%|                        | 0/109 [00:00<?, ?it/s]WARNING:root:SKIPPED _fit distribution (taking more than 30 seconds)\n",
      "Fitting 109 distributions:   1%|▏               | 1/109 [00:00<00:57,  1.86it/s]WARNING:root:SKIPPED alpha distribution (taking more than 30 seconds)\n",
      "WARNING:root:SKIPPED argus distribution (taking more than 30 seconds)\n",
      "Fitting 109 distributions:   2%|▎               | 2/109 [00:30<32:17, 18.11s/it]WARNING:root:SKIPPED anglit distribution (taking more than 30 seconds)\n",
      "Fitting 109 distributions:   3%|▍               | 3/109 [00:31<17:36,  9.96s/it]WARNING:root:SKIPPED beta distribution (taking more than 30 seconds)\n",
      "Fitting 109 distributions:   4%|▌               | 4/109 [00:31<10:39,  6.09s/it]WARNING:root:SKIPPED betaprime distribution (taking more than 30 seconds)\n",
      "Fitting 109 distributions:   5%|▋               | 5/109 [00:31<06:50,  3.95s/it]WARNING:root:SKIPPED arcsine distribution (taking more than 30 seconds)\n",
      "Fitting 109 distributions:   6%|▉               | 6/109 [00:31<04:33,  2.66s/it]WARNING:root:SKIPPED bradford distribution (taking more than 30 seconds)\n",
      "Fitting 109 distributions:   7%|█▏              | 8/109 [00:31<02:23,  1.42s/it]WARNING:root:SKIPPED burr distribution (taking more than 30 seconds)\n",
      "Fitting 109 distributions:   9%|█▍             | 10/109 [00:54<09:07,  5.53s/it]WARNING:root:SKIPPED burr12 distribution (taking more than 30 seconds)\n",
      "Fitting 109 distributions:  10%|█▌             | 11/109 [01:01<09:20,  5.72s/it]WARNING:root:SKIPPED chi distribution (taking more than 30 seconds)\n",
      "Fitting 109 distributions:  11%|█▋             | 12/109 [01:01<07:08,  4.41s/it]WARNING:root:SKIPPED cosine distribution (taking more than 30 seconds)\n",
      "WARNING:root:SKIPPED chi2 distribution (taking more than 30 seconds)\n",
      "Fitting 109 distributions:  12%|█▊             | 13/109 [01:01<05:26,  3.40s/it]WARNING:root:SKIPPED crystalball distribution (taking more than 30 seconds)\n",
      "Fitting 109 distributions:  15%|██▏            | 16/109 [01:02<02:37,  1.69s/it]WARNING:root:SKIPPED dgamma distribution (taking more than 30 seconds)\n",
      "WARNING:root:SKIPPED dweibull distribution (taking more than 30 seconds)\n",
      "Fitting 109 distributions:  17%|██▍            | 18/109 [01:02<01:44,  1.15s/it]WARNING:root:SKIPPED erlang distribution (taking more than 30 seconds)\n",
      "Fitting 109 distributions:  17%|██▌            | 19/109 [01:24<09:15,  6.17s/it]WARNING:root:SKIPPED exponnorm distribution (taking more than 30 seconds)\n",
      "Fitting 109 distributions:  18%|██▊            | 20/109 [01:31<09:19,  6.29s/it]WARNING:root:SKIPPED exponpow distribution (taking more than 30 seconds)\n",
      "Fitting 109 distributions:  19%|██▉            | 21/109 [01:32<06:56,  4.73s/it]WARNING:root:SKIPPED f distribution (taking more than 30 seconds)\n",
      "WARNING:root:SKIPPED exponweib distribution (taking more than 30 seconds)\n",
      "Fitting 109 distributions:  20%|███            | 22/109 [01:32<05:00,  3.45s/it]WARNING:root:SKIPPED fatiguelife distribution (taking more than 30 seconds)\n",
      "Fitting 109 distributions:  21%|███▏           | 23/109 [01:32<03:42,  2.58s/it]WARNING:root:SKIPPED fisk distribution (taking more than 30 seconds)\n",
      "Fitting 109 distributions:  22%|███▎           | 24/109 [01:33<02:47,  1.97s/it]WARNING:root:SKIPPED foldcauchy distribution (taking more than 30 seconds)\n",
      "Fitting 109 distributions:  24%|███▌           | 26/109 [01:33<01:41,  1.22s/it]WARNING:root:SKIPPED foldnorm distribution (taking more than 30 seconds)\n",
      "Fitting 109 distributions:  25%|███▋           | 27/109 [01:55<09:48,  7.18s/it]WARNING:root:SKIPPED gamma distribution (taking more than 30 seconds)\n",
      "Fitting 109 distributions:  26%|███▊           | 28/109 [02:01<09:28,  7.01s/it]WARNING:root:SKIPPED gausshyper distribution (taking more than 30 seconds)\n",
      "Fitting 109 distributions:  27%|███▉           | 29/109 [02:02<06:42,  5.03s/it]WARNING:root:SKIPPED genexpon distribution (taking more than 30 seconds)\n",
      "WARNING:root:SKIPPED genextreme distribution (taking more than 30 seconds)\n",
      "Fitting 109 distributions:  28%|████▎          | 31/109 [02:02<03:20,  2.58s/it]WARNING:root:SKIPPED gengamma distribution (taking more than 30 seconds)\n",
      "Fitting 109 distributions:  29%|████▍          | 32/109 [02:03<02:27,  1.92s/it]WARNING:root:SKIPPED genhalflogistic distribution (taking more than 30 seconds)\n",
      "WARNING:root:SKIPPED genhyperbolic distribution (taking more than 30 seconds)\n",
      "Fitting 109 distributions:  33%|████▉          | 36/109 [02:15<04:04,  3.35s/it]WARNING:root:SKIPPED geninvgauss distribution (taking more than 30 seconds)\n",
      "Fitting 109 distributions:  34%|█████          | 37/109 [02:25<06:20,  5.29s/it]WARNING:root:SKIPPED genlogistic distribution (taking more than 30 seconds)\n",
      "WARNING:root:SKIPPED gennorm distribution (taking more than 30 seconds)\n",
      "Fitting 109 distributions:  35%|█████▏         | 38/109 [02:32<06:48,  5.75s/it]WARNING:root:SKIPPED genpareto distribution (taking more than 30 seconds)\n",
      "Fitting 109 distributions:  36%|█████▎         | 39/109 [02:32<04:48,  4.13s/it]WARNING:root:SKIPPED gibrat distribution (taking more than 30 seconds)\n",
      "Fitting 109 distributions:  38%|█████▋         | 41/109 [02:33<02:23,  2.11s/it]WARNING:root:SKIPPED gilbrat distribution (taking more than 30 seconds)\n",
      "Fitting 109 distributions:  39%|█████▊         | 42/109 [02:33<01:47,  1.61s/it]WARNING:root:SKIPPED gompertz distribution (taking more than 30 seconds)\n",
      "Fitting 109 distributions:  39%|█████▉         | 43/109 [02:33<01:21,  1.23s/it]WARNING:root:SKIPPED halfcauchy distribution (taking more than 30 seconds)\n",
      "Fitting 109 distributions:  40%|██████         | 44/109 [02:45<04:51,  4.49s/it]WARNING:root:SKIPPED halfgennorm distribution (taking more than 30 seconds)\n",
      "Fitting 109 distributions:  41%|██████▏        | 45/109 [02:55<06:30,  6.10s/it]WARNING:root:SKIPPED halflogistic distribution (taking more than 30 seconds)\n",
      "Fitting 109 distributions:  42%|██████▎        | 46/109 [03:02<06:37,  6.32s/it]WARNING:root:SKIPPED halfnorm distribution (taking more than 30 seconds)\n",
      "Fitting 109 distributions:  43%|██████▍        | 47/109 [03:02<04:38,  4.50s/it]WARNING:root:SKIPPED invgamma distribution (taking more than 30 seconds)\n",
      "Fitting 109 distributions:  45%|██████▋        | 49/109 [03:03<02:16,  2.27s/it]WARNING:root:SKIPPED kstwo distribution (taking more than 30 seconds)\n",
      "WARNING:root:SKIPPED invgauss distribution (taking more than 30 seconds)\n",
      "Fitting 109 distributions:  47%|███████        | 51/109 [03:04<01:19,  1.36s/it]WARNING:root:SKIPPED invweibull distribution (taking more than 30 seconds)\n",
      "Fitting 109 distributions:  49%|███████▎       | 53/109 [03:05<00:59,  1.06s/it]WARNING:root:SKIPPED johnsonsb distribution (taking more than 30 seconds)\n",
      "Fitting 109 distributions:  50%|███████▍       | 54/109 [03:16<03:37,  3.96s/it]WARNING:root:SKIPPED johnsonsu distribution (taking more than 30 seconds)\n",
      "Fitting 109 distributions:  50%|███████▌       | 55/109 [03:26<05:07,  5.69s/it]WARNING:root:SKIPPED kappa3 distribution (taking more than 30 seconds)\n",
      "Fitting 109 distributions:  51%|███████▋       | 56/109 [03:32<05:20,  6.05s/it]WARNING:root:SKIPPED kappa4 distribution (taking more than 30 seconds)\n",
      "Fitting 109 distributions:  52%|███████▊       | 57/109 [03:33<03:43,  4.29s/it]WARNING:root:SKIPPED ksone distribution (taking more than 30 seconds)\n",
      "Fitting 109 distributions:  53%|███████▉       | 58/109 [03:33<02:38,  3.12s/it]WARNING:root:SKIPPED kstwobign distribution (taking more than 30 seconds)\n",
      "Fitting 109 distributions:  54%|████████       | 59/109 [03:34<01:57,  2.35s/it]WARNING:root:SKIPPED laplace_asymmetric distribution (taking more than 30 seconds)\n",
      "Fitting 109 distributions:  55%|████████▎      | 60/109 [03:34<01:33,  1.90s/it]WARNING:root:SKIPPED levy distribution (taking more than 30 seconds)\n",
      "Fitting 109 distributions:  57%|████████▌      | 62/109 [03:37<01:22,  1.75s/it]WARNING:root:SKIPPED levy_l distribution (taking more than 30 seconds)\n",
      "Fitting 109 distributions:  58%|████████▋      | 63/109 [03:46<02:55,  3.82s/it]WARNING:root:SKIPPED levy_stable distribution (taking more than 30 seconds)\n",
      "Fitting 109 distributions:  59%|████████▊      | 64/109 [03:56<04:11,  5.59s/it]WARNING:root:SKIPPED loggamma distribution (taking more than 30 seconds)\n",
      "Fitting 109 distributions:  60%|████████▉      | 65/109 [04:03<04:23,  5.98s/it]WARNING:root:SKIPPED loglaplace distribution (taking more than 30 seconds)\n",
      "Fitting 109 distributions:  61%|█████████      | 66/109 [04:03<03:04,  4.29s/it]WARNING:root:SKIPPED lognorm distribution (taking more than 30 seconds)\n",
      "Fitting 109 distributions:  61%|█████████▏     | 67/109 [04:04<02:16,  3.25s/it]WARNING:root:SKIPPED loguniform distribution (taking more than 30 seconds)\n",
      "Fitting 109 distributions:  62%|█████████▎     | 68/109 [04:05<01:42,  2.50s/it]WARNING:root:SKIPPED lomax distribution (taking more than 30 seconds)\n",
      "Fitting 109 distributions:  64%|█████████▋     | 70/109 [04:06<01:04,  1.67s/it]WARNING:root:SKIPPED maxwell distribution (taking more than 30 seconds)\n",
      "Fitting 109 distributions:  65%|█████████▊     | 71/109 [04:08<00:58,  1.53s/it]WARNING:root:SKIPPED mielke distribution (taking more than 30 seconds)\n",
      "Fitting 109 distributions:  67%|██████████     | 73/109 [04:24<02:52,  4.80s/it]WARNING:root:SKIPPED moyal distribution (taking more than 30 seconds)\n",
      "Fitting 109 distributions:  68%|██████████▏    | 74/109 [04:26<02:25,  4.16s/it]WARNING:root:SKIPPED nakagami distribution (taking more than 30 seconds)\n",
      "Fitting 109 distributions:  69%|██████████▎    | 75/109 [04:33<02:45,  4.86s/it]WARNING:root:SKIPPED ncf distribution (taking more than 30 seconds)\n",
      "Fitting 109 distributions:  70%|██████████▍    | 76/109 [04:33<01:57,  3.56s/it]WARNING:root:SKIPPED nct distribution (taking more than 30 seconds)\n",
      "Fitting 109 distributions:  71%|██████████▌    | 77/109 [04:34<01:27,  2.74s/it]WARNING:root:SKIPPED ncx2 distribution (taking more than 30 seconds)\n",
      "Fitting 109 distributions:  72%|██████████▋    | 78/109 [04:35<01:06,  2.14s/it]WARNING:root:SKIPPED norminvgauss distribution (taking more than 30 seconds)\n",
      "Fitting 109 distributions:  73%|███████████    | 80/109 [04:37<00:41,  1.42s/it]WARNING:root:SKIPPED pearson3 distribution (taking more than 30 seconds)\n",
      "Fitting 109 distributions:  74%|███████████▏   | 81/109 [04:46<01:50,  3.95s/it]WARNING:root:SKIPPED rv_continuous distribution (taking more than 30 seconds)\n",
      "Fitting 109 distributions:  75%|███████████▎   | 82/109 [04:47<01:19,  2.96s/it]WARNING:root:SKIPPED rv_histogram distribution (taking more than 30 seconds)\n",
      "Fitting 109 distributions:  76%|███████████▍   | 83/109 [04:48<00:57,  2.22s/it]WARNING:root:SKIPPED powerlaw distribution (taking more than 30 seconds)\n",
      "Fitting 109 distributions:  77%|███████████▌   | 84/109 [04:54<01:27,  3.49s/it]WARNING:root:SKIPPED powerlognorm distribution (taking more than 30 seconds)\n",
      "Fitting 109 distributions:  78%|███████████▋   | 85/109 [04:57<01:16,  3.18s/it]WARNING:root:SKIPPED powernorm distribution (taking more than 30 seconds)\n",
      "Fitting 109 distributions:  79%|███████████▊   | 86/109 [05:03<01:36,  4.18s/it]WARNING:root:SKIPPED rdist distribution (taking more than 30 seconds)\n",
      "Fitting 109 distributions:  80%|███████████▉   | 87/109 [05:04<01:13,  3.36s/it]WARNING:root:SKIPPED recipinvgauss distribution (taking more than 30 seconds)\n",
      "Fitting 109 distributions:  81%|████████████   | 88/109 [05:06<00:56,  2.69s/it]WARNING:root:SKIPPED reciprocal distribution (taking more than 30 seconds)\n",
      "WARNING:root:SKIPPED rice distribution (taking more than 30 seconds)\n",
      "Fitting 109 distributions:  83%|████████████▍  | 90/109 [05:07<00:31,  1.65s/it]WARNING:root:SKIPPED semicircular distribution (taking more than 30 seconds)\n",
      "Fitting 109 distributions:  83%|████████████▌  | 91/109 [05:18<01:18,  4.33s/it]WARNING:root:SKIPPED skewcauchy distribution (taking more than 30 seconds)\n",
      "Fitting 109 distributions:  84%|████████████▋  | 92/109 [05:25<01:26,  5.09s/it]WARNING:root:SKIPPED skewnorm distribution (taking more than 30 seconds)\n",
      "Fitting 109 distributions:  85%|████████████▊  | 93/109 [05:27<01:09,  4.34s/it]WARNING:root:SKIPPED studentized_range distribution (taking more than 30 seconds)\n",
      "Fitting 109 distributions:  86%|████████████▉  | 94/109 [05:33<01:13,  4.90s/it]WARNING:root:SKIPPED t distribution (taking more than 30 seconds)\n",
      "Fitting 109 distributions:  87%|█████████████  | 95/109 [05:35<00:55,  3.96s/it]WARNING:root:SKIPPED trapezoid distribution (taking more than 30 seconds)\n",
      "Fitting 109 distributions:  89%|█████████████▎ | 97/109 [05:36<00:27,  2.27s/it]WARNING:root:SKIPPED trapz distribution (taking more than 30 seconds)\n",
      "Fitting 109 distributions:  90%|█████████████▍ | 98/109 [05:37<00:20,  1.89s/it]WARNING:root:SKIPPED triang distribution (taking more than 30 seconds)\n",
      "Fitting 109 distributions:  91%|█████████████▌ | 99/109 [05:38<00:13,  1.37s/it]WARNING:root:SKIPPED truncexpon distribution (taking more than 30 seconds)\n",
      "Fitting 109 distributions:  92%|████████████▊ | 100/109 [05:48<00:36,  4.05s/it]WARNING:root:SKIPPED truncnorm distribution (taking more than 30 seconds)\n",
      "Fitting 109 distributions:  93%|████████████▉ | 101/109 [05:55<00:38,  4.84s/it]WARNING:root:SKIPPED truncweibull_min distribution (taking more than 30 seconds)\n",
      "Fitting 109 distributions:  94%|█████████████ | 102/109 [05:58<00:30,  4.38s/it]WARNING:root:SKIPPED tukeylambda distribution (taking more than 30 seconds)\n",
      "Fitting 109 distributions:  94%|█████████████▏| 103/109 [06:04<00:28,  4.80s/it]/Users/artemhorosilov/opt/anaconda3/lib/python3.9/site-packages/scipy/integrate/_quadpack_py.py:1151: IntegrationWarning: The maximum number of subdivisions (50) has been achieved.\n",
      "  If increasing the limit yields no improvement it is advised to analyze \n",
      "  the integrand in order to determine the difficulties.  If the position of a \n",
      "  local difficulty can be determined (singularity, discontinuity) one will \n",
      "  probably gain from splitting up the interval and calling the integrator \n",
      "  on the subranges.  Perhaps a special-purpose integrator should be used.\n",
      "  quad_r = quad(f, low, high, args=args, full_output=self.full_output,\n",
      "WARNING:root:SKIPPED vonmises distribution (taking more than 30 seconds)\n",
      "Fitting 109 distributions:  95%|█████████████▎| 104/109 [06:06<00:20,  4.08s/it]WARNING:root:SKIPPED vonmises_line distribution (taking more than 30 seconds)\n",
      "Fitting 109 distributions:  96%|█████████████▍| 105/109 [06:07<00:12,  3.01s/it]WARNING:root:SKIPPED wald distribution (taking more than 30 seconds)\n",
      "Fitting 109 distributions:  97%|█████████████▌| 106/109 [06:08<00:07,  2.47s/it]WARNING:root:SKIPPED weibull_max distribution (taking more than 30 seconds)\n",
      "Fitting 109 distributions:  98%|█████████████▋| 107/109 [06:08<00:03,  1.90s/it]WARNING:root:SKIPPED weibull_min distribution (taking more than 30 seconds)\n",
      "Fitting 109 distributions:  99%|█████████████▊| 108/109 [06:18<00:04,  4.27s/it]WARNING:root:SKIPPED wrapcauchy distribution (taking more than 30 seconds)\n",
      "Fitting 109 distributions: 100%|██████████████| 109/109 [06:25<00:00,  3.54s/it]\n"
     ]
    },
    {
     "data": {
      "text/html": [
       "<div>\n",
       "<style scoped>\n",
       "    .dataframe tbody tr th:only-of-type {\n",
       "        vertical-align: middle;\n",
       "    }\n",
       "\n",
       "    .dataframe tbody tr th {\n",
       "        vertical-align: top;\n",
       "    }\n",
       "\n",
       "    .dataframe thead th {\n",
       "        text-align: right;\n",
       "    }\n",
       "</style>\n",
       "<table border=\"1\" class=\"dataframe\">\n",
       "  <thead>\n",
       "    <tr style=\"text-align: right;\">\n",
       "      <th></th>\n",
       "      <th>sumsquare_error</th>\n",
       "      <th>aic</th>\n",
       "      <th>bic</th>\n",
       "      <th>kl_div</th>\n",
       "      <th>ks_statistic</th>\n",
       "      <th>ks_pvalue</th>\n",
       "    </tr>\n",
       "  </thead>\n",
       "  <tbody>\n",
       "    <tr>\n",
       "      <th>pareto</th>\n",
       "      <td>0.000512</td>\n",
       "      <td>11349.277965</td>\n",
       "      <td>-6.201595e+06</td>\n",
       "      <td>inf</td>\n",
       "      <td>0.453469</td>\n",
       "      <td>0.0</td>\n",
       "    </tr>\n",
       "    <tr>\n",
       "      <th>expon</th>\n",
       "      <td>0.000512</td>\n",
       "      <td>11347.281405</td>\n",
       "      <td>-6.201608e+06</td>\n",
       "      <td>inf</td>\n",
       "      <td>0.453469</td>\n",
       "      <td>0.0</td>\n",
       "    </tr>\n",
       "    <tr>\n",
       "      <th>gumbel_r</th>\n",
       "      <td>0.001498</td>\n",
       "      <td>12966.589393</td>\n",
       "      <td>-5.872217e+06</td>\n",
       "      <td>inf</td>\n",
       "      <td>0.297254</td>\n",
       "      <td>0.0</td>\n",
       "    </tr>\n",
       "    <tr>\n",
       "      <th>hypsecant</th>\n",
       "      <td>0.001847</td>\n",
       "      <td>12847.084941</td>\n",
       "      <td>-5.807898e+06</td>\n",
       "      <td>inf</td>\n",
       "      <td>0.369405</td>\n",
       "      <td>0.0</td>\n",
       "    </tr>\n",
       "    <tr>\n",
       "      <th>laplace</th>\n",
       "      <td>0.002027</td>\n",
       "      <td>11629.279167</td>\n",
       "      <td>-5.779378e+06</td>\n",
       "      <td>inf</td>\n",
       "      <td>0.447458</td>\n",
       "      <td>0.0</td>\n",
       "    </tr>\n",
       "  </tbody>\n",
       "</table>\n",
       "</div>"
      ],
      "text/plain": [
       "           sumsquare_error           aic           bic  kl_div  ks_statistic  \\\n",
       "pareto            0.000512  11349.277965 -6.201595e+06     inf      0.453469   \n",
       "expon             0.000512  11347.281405 -6.201608e+06     inf      0.453469   \n",
       "gumbel_r          0.001498  12966.589393 -5.872217e+06     inf      0.297254   \n",
       "hypsecant         0.001847  12847.084941 -5.807898e+06     inf      0.369405   \n",
       "laplace           0.002027  11629.279167 -5.779378e+06     inf      0.447458   \n",
       "\n",
       "           ks_pvalue  \n",
       "pareto           0.0  \n",
       "expon            0.0  \n",
       "gumbel_r         0.0  \n",
       "hypsecant        0.0  \n",
       "laplace          0.0  "
      ]
     },
     "execution_count": 37,
     "metadata": {},
     "output_type": "execute_result"
    },
    {
     "name": "stderr",
     "output_type": "stream",
     "text": [
      "/Users/artemhorosilov/opt/anaconda3/lib/python3.9/site-packages/scipy/integrate/_quadpack_py.py:1151: IntegrationWarning: The integral is probably divergent, or slowly convergent.\n",
      "  quad_r = quad(f, low, high, args=args, full_output=self.full_output,\n"
     ]
    },
    {
     "data": {
      "image/png": "[encoded data removed]",
      "text/plain": [
       "<Figure size 640x480 with 1 Axes>"
      ]
     },
     "metadata": {},
     "output_type": "display_data"
    }
   ],
   "source": [
    "from fitter import Fitter\n",
    "f = Fitter(test1[\"metrics\"])\n",
    "f.fit()\n",
    "f.summary()"
   ]
  },
  {
   "cell_type": "markdown",
   "metadata": {},
   "source": [
    "Библиотека Fitter имеет 80 распределений, она сравнивает наше(исходное) распределение с другими, и выводит 5 наиболее близких. \n",
    "Библиотека показывает на первом месте распрделение Парето, но это распределение мало чем различается с экспоненциальным, которое идет на втором месте"
   ]
  },
  {
   "cell_type": "markdown",
   "metadata": {},
   "source": [
    "* Взглянем на гистограмму, по нашим данным, что бы попробовать подтвердить гипотезу о том, что это Парето"
   ]
  },
  {
   "cell_type": "code",
   "execution_count": 10,
   "metadata": {},
   "outputs": [
    {
     "data": {
      "text/plain": [
       "array([[<AxesSubplot:title={'center':'metrics'}>]], dtype=object)"
      ]
     },
     "execution_count": 10,
     "metadata": {},
     "output_type": "execute_result"
    },
    {
     "data": {
      "image/png": "[encoded data removed]",
      "text/plain": [
       "<Figure size 640x480 with 1 Axes>"
      ]
     },
     "metadata": {},
     "output_type": "display_data"
    }
   ],
   "source": [
    "test1.hist()"
   ]
  },
  {
   "cell_type": "markdown",
   "metadata": {},
   "source": [
    "* Масштаб и правая колонка указывает, на присутствие выбросов, избавимся от них и посмотрим снова"
   ]
  },
  {
   "cell_type": "code",
   "execution_count": 11,
   "metadata": {},
   "outputs": [
    {
     "data": {
      "text/plain": [
       "array([[<AxesSubplot:title={'center':'metrics'}>]], dtype=object)"
      ]
     },
     "execution_count": 11,
     "metadata": {},
     "output_type": "execute_result"
    },
    {
     "data": {
      "image/png": "[encoded data removed]",
      "text/plain": [
       "<Figure size 640x480 with 1 Axes>"
      ]
     },
     "metadata": {},
     "output_type": "display_data"
    }
   ],
   "source": [
    "test11=test1[test1.metrics<test1.metrics.quantile(0.95)]\n",
    "test1[test1.metrics<test1.metrics.quantile(0.95)].hist()"
   ]
  },
  {
   "cell_type": "markdown",
   "metadata": {},
   "source": [
    "* Понятнее к сожалению не стало, но мы можем исключить логарифм, потому что нет значений в нуле, а значит и экспенциальное, потому что логлог граф будет давать ошибочные данные, и прямая линия на полулогарифмическом графике  графике не должна появиться, убедимся в этом. =)"
   ]
  },
  {
   "cell_type": "code",
   "execution_count": 12,
   "metadata": {},
   "outputs": [
    {
     "data": {
      "text/plain": [
       "<AxesSubplot:ylabel='Frequency'>"
      ]
     },
     "execution_count": 12,
     "metadata": {},
     "output_type": "execute_result"
    },
    {
     "data": {
      "image/png": "[encoded data removed]",
      "text/plain": [
       "<Figure size 640x480 with 1 Axes>"
      ]
     },
     "metadata": {},
     "output_type": "display_data"
    }
   ],
   "source": [
    "test1.plot.hist(bins=20,logy=True)"
   ]
  },
  {
   "cell_type": "markdown",
   "metadata": {},
   "source": [
    "* Уберем выбросы"
   ]
  },
  {
   "cell_type": "code",
   "execution_count": 13,
   "metadata": {},
   "outputs": [
    {
     "data": {
      "text/plain": [
       "<AxesSubplot:ylabel='Frequency'>"
      ]
     },
     "execution_count": 13,
     "metadata": {},
     "output_type": "execute_result"
    },
    {
     "data": {
      "image/png": "[encoded data removed]",
      "text/plain": [
       "<Figure size 640x480 with 1 Axes>"
      ]
     },
     "metadata": {},
     "output_type": "display_data"
    }
   ],
   "source": [
    "test11.plot.hist(bins=20,logy=True)"
   ]
  },
  {
   "cell_type": "markdown",
   "metadata": {},
   "source": [
    "* Как я и предполагал, линии не получилось, попробеум проверить последнюю догадку, у идеального экспоненциаьного распределения, среднне значаение и стандартное отклонение должны быть равны, если оно не идеальное, то хотя бы приближенно."
   ]
  },
  {
   "cell_type": "code",
   "execution_count": 14,
   "metadata": {},
   "outputs": [
    {
     "name": "stdout",
     "output_type": "stream",
     "text": [
      "Среднее:  metrics    10.146275\n",
      "dtype: float64\n",
      "Медиана:  metrics    2.0\n",
      "dtype: float64\n",
      "Стандартное отклонение:  metrics    22.627378\n",
      "dtype: float64\n"
     ]
    }
   ],
   "source": [
    "print('Среднее: ', test1.mean())    \n",
    "print('Медиана: ', test1.median())\n",
    "print('Стандартное отклонение: ', test1.std())"
   ]
  },
  {
   "cell_type": "markdown",
   "metadata": {},
   "source": [
    "* Как видно они сильно различаются, значит экспоненциальное распределение, я 100% отбрасываю. Попробуем   проверить признак Парето (80 на 20)"
   ]
  },
  {
   "cell_type": "code",
   "execution_count": 15,
   "metadata": {},
   "outputs": [],
   "source": [
    "test_sort = test1.sort_values(by=['metrics'], ascending=False)"
   ]
  },
  {
   "cell_type": "code",
   "execution_count": 16,
   "metadata": {},
   "outputs": [],
   "source": [
    "test_sort['CUMSUM_C'] = test_sort['metrics'].cumsum()"
   ]
  },
  {
   "cell_type": "code",
   "execution_count": 17,
   "metadata": {},
   "outputs": [
    {
     "data": {
      "text/plain": [
       "(306839, 2)"
      ]
     },
     "execution_count": 17,
     "metadata": {},
     "output_type": "execute_result"
    }
   ],
   "source": [
    "test_sort.shape"
   ]
  },
  {
   "cell_type": "code",
   "execution_count": 18,
   "metadata": {},
   "outputs": [
    {
     "name": "stdout",
     "output_type": "stream",
     "text": [
      "58218.2\n"
     ]
    }
   ],
   "source": [
    "print(291091*20/100)"
   ]
  },
  {
   "cell_type": "code",
   "execution_count": 19,
   "metadata": {},
   "outputs": [
    {
     "data": {
      "text/plain": [
       "2484652"
      ]
     },
     "execution_count": 19,
     "metadata": {},
     "output_type": "execute_result"
    }
   ],
   "source": [
    "test_sort[\"CUMSUM_C\"].iloc[58218] "
   ]
  },
  {
   "cell_type": "code",
   "execution_count": 20,
   "metadata": {},
   "outputs": [
    {
     "data": {
      "text/html": [
       "<div>\n",
       "<style scoped>\n",
       "    .dataframe tbody tr th:only-of-type {\n",
       "        vertical-align: middle;\n",
       "    }\n",
       "\n",
       "    .dataframe tbody tr th {\n",
       "        vertical-align: top;\n",
       "    }\n",
       "\n",
       "    .dataframe thead th {\n",
       "        text-align: right;\n",
       "    }\n",
       "</style>\n",
       "<table border=\"1\" class=\"dataframe\">\n",
       "  <thead>\n",
       "    <tr style=\"text-align: right;\">\n",
       "      <th></th>\n",
       "      <th>metrics</th>\n",
       "      <th>CUMSUM_C</th>\n",
       "    </tr>\n",
       "  </thead>\n",
       "  <tbody>\n",
       "    <tr>\n",
       "      <th>142105</th>\n",
       "      <td>1</td>\n",
       "      <td>3113269</td>\n",
       "    </tr>\n",
       "    <tr>\n",
       "      <th>142106</th>\n",
       "      <td>1</td>\n",
       "      <td>3113270</td>\n",
       "    </tr>\n",
       "    <tr>\n",
       "      <th>142108</th>\n",
       "      <td>1</td>\n",
       "      <td>3113271</td>\n",
       "    </tr>\n",
       "    <tr>\n",
       "      <th>142128</th>\n",
       "      <td>1</td>\n",
       "      <td>3113272</td>\n",
       "    </tr>\n",
       "    <tr>\n",
       "      <th>306838</th>\n",
       "      <td>1</td>\n",
       "      <td>3113273</td>\n",
       "    </tr>\n",
       "  </tbody>\n",
       "</table>\n",
       "</div>"
      ],
      "text/plain": [
       "        metrics  CUMSUM_C\n",
       "142105        1   3113269\n",
       "142106        1   3113270\n",
       "142108        1   3113271\n",
       "142128        1   3113272\n",
       "306838        1   3113273"
      ]
     },
     "execution_count": 20,
     "metadata": {},
     "output_type": "execute_result"
    }
   ],
   "source": [
    "test_sort.tail()"
   ]
  },
  {
   "cell_type": "code",
   "execution_count": 21,
   "metadata": {},
   "outputs": [
    {
     "data": {
      "text/plain": [
       "79.8083560291693"
      ]
     },
     "execution_count": 21,
     "metadata": {},
     "output_type": "execute_result"
    }
   ],
   "source": [
    "2484652*100/3113273"
   ]
  },
  {
   "cell_type": "markdown",
   "metadata": {},
   "source": [
    "#### Как я только что проанализировал, 20% выборки имеет 80% суммы, значит данные точно распределены по Парето"
   ]
  },
  {
   "cell_type": "markdown",
   "metadata": {},
   "source": [
    "##### Вывод2: Распределенно по Парето"
   ]
  },
  {
   "cell_type": "markdown",
   "metadata": {
    "id": "DFtPMRe9mNrW"
   },
   "source": [
    "### Задание 2"
   ]
  },
  {
   "cell_type": "markdown",
   "metadata": {
    "id": "c3WywbRdhyiG"
   },
   "source": [
    "\n",
    "\n",
    "Определить, можно сравнить две представленные выборки t критерием Стьюдента? \n",
    "\n",
    "Если нельзя сравнивать t-критерием, то что будем использовать и почему?\n",
    "\n",
    "Ответ аргументировать и описать \n",
    "\n",
    "[Ссылка на данные](https://drive.google.com/file/d/1blvC6TEBWghhVMexjOdoGEjzhZZh3wSy/view?usp=sharing)\n",
    "\n",
    "Описание данных: \n",
    "\n",
    "* variant -- вариация в А/Б тесте (либо группа А -- например, сайт без изменений. Либо группа Б -- сайт с изменениями)\n",
    "* metrics -- значение определенной метрики в сервисе для пользователя (например, количество кликов). \n",
    "\n",
    "*Вместе с ответом на задание приложить код*"
   ]
  },
  {
   "cell_type": "code",
   "execution_count": 22,
   "metadata": {
    "id": "ENFymGnAhyiH"
   },
   "outputs": [
    {
     "data": {
      "text/html": [
       "<div>\n",
       "<style scoped>\n",
       "    .dataframe tbody tr th:only-of-type {\n",
       "        vertical-align: middle;\n",
       "    }\n",
       "\n",
       "    .dataframe tbody tr th {\n",
       "        vertical-align: top;\n",
       "    }\n",
       "\n",
       "    .dataframe thead th {\n",
       "        text-align: right;\n",
       "    }\n",
       "</style>\n",
       "<table border=\"1\" class=\"dataframe\">\n",
       "  <thead>\n",
       "    <tr style=\"text-align: right;\">\n",
       "      <th></th>\n",
       "      <th>variant</th>\n",
       "      <th>metrics</th>\n",
       "    </tr>\n",
       "  </thead>\n",
       "  <tbody>\n",
       "    <tr>\n",
       "      <th>0</th>\n",
       "      <td>A</td>\n",
       "      <td>1</td>\n",
       "    </tr>\n",
       "    <tr>\n",
       "      <th>1</th>\n",
       "      <td>B</td>\n",
       "      <td>1</td>\n",
       "    </tr>\n",
       "    <tr>\n",
       "      <th>2</th>\n",
       "      <td>A</td>\n",
       "      <td>4</td>\n",
       "    </tr>\n",
       "    <tr>\n",
       "      <th>3</th>\n",
       "      <td>B</td>\n",
       "      <td>37</td>\n",
       "    </tr>\n",
       "    <tr>\n",
       "      <th>4</th>\n",
       "      <td>B</td>\n",
       "      <td>4</td>\n",
       "    </tr>\n",
       "    <tr>\n",
       "      <th>184199</th>\n",
       "      <td>A</td>\n",
       "      <td>12</td>\n",
       "    </tr>\n",
       "    <tr>\n",
       "      <th>184200</th>\n",
       "      <td>A</td>\n",
       "      <td>8</td>\n",
       "    </tr>\n",
       "    <tr>\n",
       "      <th>184201</th>\n",
       "      <td>B</td>\n",
       "      <td>11</td>\n",
       "    </tr>\n",
       "    <tr>\n",
       "      <th>184202</th>\n",
       "      <td>B</td>\n",
       "      <td>81</td>\n",
       "    </tr>\n",
       "    <tr>\n",
       "      <th>184203</th>\n",
       "      <td>A</td>\n",
       "      <td>1</td>\n",
       "    </tr>\n",
       "  </tbody>\n",
       "</table>\n",
       "</div>"
      ],
      "text/plain": [
       "       variant  metrics\n",
       "0            A        1\n",
       "1            B        1\n",
       "2            A        4\n",
       "3            B       37\n",
       "4            B        4\n",
       "184199       A       12\n",
       "184200       A        8\n",
       "184201       B       11\n",
       "184202       B       81\n",
       "184203       A        1"
      ]
     },
     "execution_count": 22,
     "metadata": {},
     "output_type": "execute_result"
    }
   ],
   "source": [
    "test2= pd.read_csv('/Users/artemhorosilov/Downloads/test_1_2.csv', delimiter=';')\n",
    "test2=test2.drop(columns=['Unnamed: 0'])\n",
    "pd.concat([test2.head(), test2.tail()])"
   ]
  },
  {
   "cell_type": "code",
   "execution_count": 23,
   "metadata": {},
   "outputs": [],
   "source": [
    "testA=test2[test2[\"variant\"]==\"A\"]"
   ]
  },
  {
   "cell_type": "code",
   "execution_count": 24,
   "metadata": {},
   "outputs": [],
   "source": [
    "testB=test2[test2[\"variant\"]==\"B\"]"
   ]
  },
  {
   "cell_type": "markdown",
   "metadata": {},
   "source": [
    "* Выборки несвязанные, так как говорится о сайтах, только один с изменениями, а другой нет, в а/б тестирование, одной и той же группе лиц не показывают разные версии, кому-то показывают одну, кому-то другую. Проверим данные  на нормальность с помошью Q-Q plot и гомогенность дисперсий."
   ]
  },
  {
   "cell_type": "code",
   "execution_count": 25,
   "metadata": {},
   "outputs": [
    {
     "data": {
      "text/plain": [
       "LeveneResult(statistic=4.313416821004634, pvalue=0.03781432358426188)"
      ]
     },
     "execution_count": 25,
     "metadata": {},
     "output_type": "execute_result"
    }
   ],
   "source": [
    "#гомогенность дисперсий\n",
    "from scipy.stats import levene\n",
    "levene(testA[\"metrics\"], testB[\"metrics\"])"
   ]
  },
  {
   "cell_type": "markdown",
   "metadata": {},
   "source": [
    "* p-value в критерии Левена = 0.037, это значение меньше уровня значимости, установленного нами в 5%, значит отвергаем нулевую гипотезу о том, что данные выборки удовлетворяют свойству гомогенности дисперсий."
   ]
  },
  {
   "cell_type": "code",
   "execution_count": 26,
   "metadata": {},
   "outputs": [],
   "source": [
    "from scipy.stats import ttest_ind, ttest_rel\n",
    "from scipy.stats import t, norm\n",
    "from statsmodels.api import qqplot"
   ]
  },
  {
   "cell_type": "code",
   "execution_count": 27,
   "metadata": {},
   "outputs": [
    {
     "data": {
      "image/png": "[encoded data removed]",
      "text/plain": [
       "<Figure size 640x480 with 1 Axes>"
      ]
     },
     "metadata": {},
     "output_type": "display_data"
    }
   ],
   "source": [
    "fig0 = qqplot(np.array(test2[\"metrics\"]), norm, line='45', fit=True)"
   ]
  },
  {
   "cell_type": "markdown",
   "metadata": {},
   "source": [
    "* Распределение не является нормальным, а значит нельзя применить t-test"
   ]
  },
  {
   "cell_type": "markdown",
   "metadata": {},
   "source": [
    "* Z-test тоже нельзя применить хоть выборка и большая но мы не знаем исходное стандартное отклонение"
   ]
  },
  {
   "cell_type": "markdown",
   "metadata": {},
   "source": [
    "* Будем использовать u-test, так как распределение отличается от нормального, но в сравнении с t-test повышается шанс ошибки первого рода. В случае данного задания мы вводим фичу, благодаря которой клики на сайте повышаются, а значит намного срашнее допустить ошибку второго рода, поэтому u-test идеально подойдет. Значит нулевая гипотеза такая: \"Cлучайно выбранное значение из одной выборки может быть равновероятно больше или меньше случайного значения из другой выборки(A==B).\" А альтернативная гипотеза:  \"Значение из выборки B больше случайного значения из выборки A(B>A)\" Информация про u-test была взята: [wiki](https://en.wikipedia.org/wiki/Mann–Whitney_U_test#Comparison_to_Student's_t-test)."
   ]
  },
  {
   "cell_type": "code",
   "execution_count": 28,
   "metadata": {},
   "outputs": [],
   "source": [
    "from scipy import stats as st"
   ]
  },
  {
   "cell_type": "code",
   "execution_count": 29,
   "metadata": {},
   "outputs": [
    {
     "data": {
      "text/plain": [
       "MannwhitneyuResult(statistic=4195358346.0, pvalue=2.7311182624546524e-05)"
      ]
     },
     "execution_count": 29,
     "metadata": {},
     "output_type": "execute_result"
    }
   ],
   "source": [
    "st.mannwhitneyu (testA[\"metrics\"], testB[\"metrics\"])"
   ]
  },
  {
   "cell_type": "markdown",
   "metadata": {},
   "source": [
    "#### Вывод:\n"
   ]
  },
  {
   "cell_type": "markdown",
   "metadata": {},
   "source": [
    "Поскольку p-value меньше определенной мной статистической значимости в 5%, то мы отклоняем нулевую гипотезу."
   ]
  },
  {
   "cell_type": "markdown",
   "metadata": {
    "id": "5tQctBedmR5u"
   },
   "source": [
    "### Задание 3"
   ]
  },
  {
   "cell_type": "markdown",
   "metadata": {
    "id": "MGIJMTZGhyiH"
   },
   "source": [
    "\n",
    "\n",
    "Дано две выборки по А/Б тесту.\n",
    "\n",
    "Две выборки несбалансированные - кол-во пользователей в каждой группе разные.\n",
    "\n",
    "Метрика, которую меряем в эксперименте (и которую используем для определения группы, которая лучше себя показала) - кол-во просмотренных страниц на пользователя \n",
    "\n",
    "Как вы будете принимать решение, какая группа лучше А или Б, и какие статистические методы (критерии) вы будете использовать, какие преобразования к данным применять? P.S. Если идеи не приходят в голову, возможно, вам может помочь почитать дополнительно про А/Б тесты и работу с несбалансированными выборками\n",
    "\n",
    "[Ссылка на данные](https://drive.google.com/file/d/1_g7Dw7-8QzTS47D6GNKMb0FzqMAWBDba/view?usp=sharing)\n",
    "\n",
    "Описание данных: \n",
    "\n",
    "* variant -- вариация в А/Б тесте (либо группа А -- например, сайт без изменений. Либо группа Б -- сайт с изменениями)\n",
    "* metrics -- значение определенной метрики в сервисе для пользователя (например, количество кликов). \n",
    "\n",
    "\n",
    "*Вместе с ответом на задание приложить код*"
   ]
  },
  {
   "cell_type": "markdown",
   "metadata": {},
   "source": [
    "* Считаем данные"
   ]
  },
  {
   "cell_type": "code",
   "execution_count": 30,
   "metadata": {
    "id": "tdn1GtFihyiH"
   },
   "outputs": [
    {
     "data": {
      "text/plain": [
       "(108099, 2)"
      ]
     },
     "execution_count": 30,
     "metadata": {},
     "output_type": "execute_result"
    }
   ],
   "source": [
    "test3= pd.read_csv('/Users/artemhorosilov/Downloads/hw2_test_1_3.csv', delimiter=';')\n",
    "test3=test3.drop(columns=['Unnamed: 0'])\n",
    "test3.shape"
   ]
  },
  {
   "cell_type": "markdown",
   "metadata": {},
   "source": [
    "* Разделим датасет, на два других по А и D"
   ]
  },
  {
   "cell_type": "code",
   "execution_count": 31,
   "metadata": {},
   "outputs": [
    {
     "data": {
      "text/plain": [
       "(92686, 2)"
      ]
     },
     "execution_count": 31,
     "metadata": {},
     "output_type": "execute_result"
    }
   ],
   "source": [
    "test3A=test3[test3[\"variant\"]==\"A\"]\n",
    "test3A.shape #86%"
   ]
  },
  {
   "cell_type": "code",
   "execution_count": 32,
   "metadata": {},
   "outputs": [
    {
     "data": {
      "text/plain": [
       "(15413, 2)"
      ]
     },
     "execution_count": 32,
     "metadata": {},
     "output_type": "execute_result"
    }
   ],
   "source": [
    "test3D=test3[test3[\"variant\"]==\"D\"]\n",
    "test3D.shape #14%"
   ]
  },
  {
   "cell_type": "markdown",
   "metadata": {},
   "source": [
    "* Как видно контрольная выборка имеет 86% всех данных, а тестовая 14%.\n",
    "Посмотрим на конверсию в этих группах, чтобы примерно понимать есть ли разница"
   ]
  },
  {
   "cell_type": "code",
   "execution_count": 33,
   "metadata": {},
   "outputs": [
    {
     "name": "stdout",
     "output_type": "stream",
     "text": [
      "Конверсия в контрольной:  0.009342881952555383 Конверсия в тестовой:  0.009197482212861836\n"
     ]
    }
   ],
   "source": [
    "print('Конверсия в контрольной: ', test3A['metrics'].mean()/test3.shape[0]*100, 'Конверсия в тестовой: ', test3D['metrics'].mean()/test3.shape[0]*100)"
   ]
  },
  {
   "cell_type": "markdown",
   "metadata": {},
   "source": [
    "* Разницы особо не видно, поэтому выдвинем нулевую гипотезу о том, что \"Отсутсвует изменения в количестве кликов на сайте после изменений\""
   ]
  },
  {
   "cell_type": "markdown",
   "metadata": {},
   "source": [
    "* Так как выборки А и D несбалансированные, то преобразуем данные в диапозоне [0, 1] чтобы выборки можно было сравнить. Преобразование сделаю с помощью MinMax способа, источник [MinMax](https://habr.com/ru/post/527334/)"
   ]
  },
  {
   "cell_type": "code",
   "execution_count": 34,
   "metadata": {},
   "outputs": [],
   "source": [
    "test3A=(test3A['metrics']-test3A['metrics'].min())/(test3A['metrics'].max()-test3A['metrics'].min ())\n",
    "test3D=(test3D['metrics']-test3D['metrics'].min())/(test3D['metrics'].max()-test3D['metrics'].min ())"
   ]
  },
  {
   "cell_type": "markdown",
   "metadata": {},
   "source": [
    "* Попробую проверить выборку на гомогенность и нормальность, так как выборки несвязанные чтобы понять могу ли я сравнить эти выборки с критерием стьюдента"
   ]
  },
  {
   "cell_type": "code",
   "execution_count": 35,
   "metadata": {},
   "outputs": [
    {
     "data": {
      "text/plain": [
       "LeveneResult(statistic=2526.047253417491, pvalue=0.0)"
      ]
     },
     "execution_count": 35,
     "metadata": {},
     "output_type": "execute_result"
    }
   ],
   "source": [
    "#гомогенность дисперсий\n",
    "levene(test3A, test3D)"
   ]
  },
  {
   "cell_type": "markdown",
   "metadata": {},
   "source": [
    "* p-value в критерии Левена = 0.4, это значение ,больше уровня значимости, установленного нами в 5%, значит не можем отвергнуть нулевую гипотезу о том, что данные выборки удовлетворяют свойству гомогенности дисперсий."
   ]
  },
  {
   "cell_type": "code",
   "execution_count": 36,
   "metadata": {},
   "outputs": [
    {
     "data": {
      "image/png": "[encoded data removed]",
      "text/plain": [
       "<Figure size 640x480 with 1 Axes>"
      ]
     },
     "metadata": {},
     "output_type": "display_data"
    }
   ],
   "source": [
    "fig0 = qqplot(np.array(test3[\"metrics\"]), norm, line='45', fit=True)"
   ]
  },
  {
   "cell_type": "markdown",
   "metadata": {},
   "source": [
    "###### Линиия вообще не ровная, а значит данные распредленны по другому закону."
   ]
  },
  {
   "cell_type": "markdown",
   "metadata": {},
   "source": [
    "###### Для сравнения выборок и отклонения гипотез буду использовать статистику u-test,\n",
    "Она подойдет идеально, так как исходное стандартное отклонение неизвестно, две выборки распредлены независимо друг от друга, распределение отличается от нормального, а данных очень много."
   ]
  },
  {
   "cell_type": "code",
   "execution_count": 37,
   "metadata": {},
   "outputs": [
    {
     "data": {
      "text/plain": [
       "MannwhitneyuResult(statistic=631387902.5, pvalue=1.235100169908559e-128)"
      ]
     },
     "execution_count": 37,
     "metadata": {},
     "output_type": "execute_result"
    }
   ],
   "source": [
    "st.mannwhitneyu (test3A, test3D)"
   ]
  },
  {
   "cell_type": "markdown",
   "metadata": {},
   "source": [
    "#### Вывод: p-value намного меньше установленной сатистической значимости в 5%, значит нулевая гипотеза об отсутсвии разнизы между выборками будет отклонена"
   ]
  },
  {
   "cell_type": "markdown",
   "metadata": {
    "id": "TRGtcwakmY8O"
   },
   "source": [
    "### Задание 4"
   ]
  },
  {
   "cell_type": "markdown",
   "metadata": {
    "id": "_kRalmOchyiI"
   },
   "source": [
    "\n",
    "\n",
    "Есть данные с большой дисперсии у метрики (диспресию метрики можно посчитать для каждой группы). Для их дальнейшего анализа дисперсию необходимо сократить. Как определить, что дисперсия действительно большая? Если она большая, как вы будете ее чистить? Ответ аргументировать и описать.  P.S. Если идеи не приходят в голову, возможно, вам может помочь почитать дополнительно про А/Б тесты и снижение дисперсии в них\n",
    "\n",
    "Описание данных: \n",
    "\n",
    "* metrics -- значение определенной метрики в сервисе для пользователя (например, количество кликов). \n",
    "\n",
    "[Ссылка на данные](https://drive.google.com/file/d/1fc8BGSjDiwbZW6rcr3mMSwAjU2T_BpGW/view?usp=sharing)\n",
    "\n",
    "*Вместе с ответом на задание приложить код*"
   ]
  },
  {
   "cell_type": "code",
   "execution_count": 38,
   "metadata": {
    "id": "ysGgzNEbhyiJ"
   },
   "outputs": [
    {
     "name": "stdout",
     "output_type": "stream",
     "text": [
      "(306839, 2)\n"
     ]
    },
    {
     "data": {
      "text/html": [
       "<div>\n",
       "<style scoped>\n",
       "    .dataframe tbody tr th:only-of-type {\n",
       "        vertical-align: middle;\n",
       "    }\n",
       "\n",
       "    .dataframe tbody tr th {\n",
       "        vertical-align: top;\n",
       "    }\n",
       "\n",
       "    .dataframe thead th {\n",
       "        text-align: right;\n",
       "    }\n",
       "</style>\n",
       "<table border=\"1\" class=\"dataframe\">\n",
       "  <thead>\n",
       "    <tr style=\"text-align: right;\">\n",
       "      <th></th>\n",
       "      <th>Unnamed: 0</th>\n",
       "      <th>metrics</th>\n",
       "    </tr>\n",
       "  </thead>\n",
       "  <tbody>\n",
       "    <tr>\n",
       "      <th>0</th>\n",
       "      <td>1</td>\n",
       "      <td>1</td>\n",
       "    </tr>\n",
       "    <tr>\n",
       "      <th>1</th>\n",
       "      <td>2</td>\n",
       "      <td>1</td>\n",
       "    </tr>\n",
       "    <tr>\n",
       "      <th>2</th>\n",
       "      <td>3</td>\n",
       "      <td>4</td>\n",
       "    </tr>\n",
       "    <tr>\n",
       "      <th>3</th>\n",
       "      <td>4</td>\n",
       "      <td>1</td>\n",
       "    </tr>\n",
       "    <tr>\n",
       "      <th>4</th>\n",
       "      <td>5</td>\n",
       "      <td>1</td>\n",
       "    </tr>\n",
       "    <tr>\n",
       "      <th>306834</th>\n",
       "      <td>306835</td>\n",
       "      <td>8</td>\n",
       "    </tr>\n",
       "    <tr>\n",
       "      <th>306835</th>\n",
       "      <td>306836</td>\n",
       "      <td>11</td>\n",
       "    </tr>\n",
       "    <tr>\n",
       "      <th>306836</th>\n",
       "      <td>306837</td>\n",
       "      <td>1</td>\n",
       "    </tr>\n",
       "    <tr>\n",
       "      <th>306837</th>\n",
       "      <td>306838</td>\n",
       "      <td>81</td>\n",
       "    </tr>\n",
       "    <tr>\n",
       "      <th>306838</th>\n",
       "      <td>306839</td>\n",
       "      <td>1</td>\n",
       "    </tr>\n",
       "  </tbody>\n",
       "</table>\n",
       "</div>"
      ],
      "text/plain": [
       "        Unnamed: 0  metrics\n",
       "0                1        1\n",
       "1                2        1\n",
       "2                3        4\n",
       "3                4        1\n",
       "4                5        1\n",
       "306834      306835        8\n",
       "306835      306836       11\n",
       "306836      306837        1\n",
       "306837      306838       81\n",
       "306838      306839        1"
      ]
     },
     "execution_count": 38,
     "metadata": {},
     "output_type": "execute_result"
    }
   ],
   "source": [
    "test4= pd.read_csv('/Users/artemhorosilov/Downloads/test_1_1.csv', delimiter=';')\n",
    "print(test4.shape)\n",
    "pd.concat([test4.head(), test4.tail()])"
   ]
  },
  {
   "cell_type": "markdown",
   "metadata": {},
   "source": [
    "* Посмотрим на дисперсию"
   ]
  },
  {
   "cell_type": "code",
   "execution_count": 39,
   "metadata": {},
   "outputs": [
    {
     "name": "stdout",
     "output_type": "stream",
     "text": [
      "Дисперсия:  511.99823268544515\n"
     ]
    }
   ],
   "source": [
    "print(\"Дисперсия: \", test4[\"metrics\"].var())"
   ]
  },
  {
   "cell_type": "markdown",
   "metadata": {},
   "source": [
    "* Теперь нужно понять является ли дисперсия действительно большой, для этого посмтори на квантили 5, 50, 95, и на максимальное минимальное значение"
   ]
  },
  {
   "cell_type": "code",
   "execution_count": 40,
   "metadata": {},
   "outputs": [
    {
     "name": "stdout",
     "output_type": "stream",
     "text": [
      "Пятый квантиль:  1.0\n",
      "50 квантиль или медиана:  2.0\n",
      "95 квантиль:  52.0\n",
      "Минимум:  1\n",
      "Максимум:  998\n"
     ]
    }
   ],
   "source": [
    "print(\"Пятый квантиль: \" , test4.metrics.quantile(0.05))\n",
    "print(\"50 квантиль или медиана: \", test4.metrics.quantile(0.5))\n",
    "print(\"95 квантиль: \" ,test4.metrics.quantile(0.95))\n",
    "print(\"Минимум: \", test4.metrics.min())\n",
    "print(\"Максимум: \" ,test4.metrics.max())"
   ]
  },
  {
   "cell_type": "markdown",
   "metadata": {},
   "source": [
    "* Как видно отклонение по сравнению с минимальным, медианой и 95 квантилем действительно велико"
   ]
  },
  {
   "cell_type": "markdown",
   "metadata": {},
   "source": [
    "* Посмотрим на гистограмму что понять есть ли выбросы"
   ]
  },
  {
   "cell_type": "code",
   "execution_count": 41,
   "metadata": {},
   "outputs": [
    {
     "data": {
      "text/plain": [
       "<AxesSubplot:>"
      ]
     },
     "execution_count": 41,
     "metadata": {},
     "output_type": "execute_result"
    },
    {
     "data": {
      "image/png": "[encoded data removed]",
      "text/plain": [
       "<Figure size 640x480 with 1 Axes>"
      ]
     },
     "metadata": {},
     "output_type": "display_data"
    }
   ],
   "source": [
    "test4[\"metrics\"].hist()"
   ]
  },
  {
   "cell_type": "markdown",
   "metadata": {},
   "source": [
    "* Выбросы есть, избавимся от них и посмотрим на дисперсию"
   ]
  },
  {
   "cell_type": "code",
   "execution_count": 42,
   "metadata": {},
   "outputs": [],
   "source": [
    "test4_final=test4[test4.metrics<test4.metrics.quantile(0.95)]"
   ]
  },
  {
   "cell_type": "code",
   "execution_count": 43,
   "metadata": {},
   "outputs": [
    {
     "data": {
      "text/plain": [
       "<AxesSubplot:>"
      ]
     },
     "execution_count": 43,
     "metadata": {},
     "output_type": "execute_result"
    },
    {
     "data": {
      "image/png": "[encoded data removed]",
      "text/plain": [
       "<Figure size 640x480 with 1 Axes>"
      ]
     },
     "metadata": {},
     "output_type": "display_data"
    }
   ],
   "source": [
    "test4_final[\"metrics\"].hist()"
   ]
  },
  {
   "cell_type": "markdown",
   "metadata": {},
   "source": [
    "* Выглядит намного лучше"
   ]
  },
  {
   "cell_type": "code",
   "execution_count": 44,
   "metadata": {},
   "outputs": [
    {
     "name": "stdout",
     "output_type": "stream",
     "text": [
      "Дисперсия после отброса выбросов:  88.33599671601749\n"
     ]
    }
   ],
   "source": [
    "print(\"Дисперсия после отброса выбросов: \", test4_final[\"metrics\"].var())"
   ]
  },
  {
   "cell_type": "markdown",
   "metadata": {},
   "source": [
    "* Получилось что мы сократили дисперсию на 83%"
   ]
  },
  {
   "cell_type": "markdown",
   "metadata": {},
   "source": [
    "* Но я всего лишь сократил данные, что не очень хорошо и если бы речь в задании шла о деньгах, получился бы кошмар для бухгалтерии"
   ]
  },
  {
   "cell_type": "markdown",
   "metadata": {},
   "source": [
    "* Посмотрим на количество наблюдений в данных"
   ]
  },
  {
   "cell_type": "code",
   "execution_count": 45,
   "metadata": {},
   "outputs": [
    {
     "data": {
      "text/plain": [
       "306839"
      ]
     },
     "execution_count": 45,
     "metadata": {},
     "output_type": "execute_result"
    }
   ],
   "source": [
    "test4.shape[0]"
   ]
  },
  {
   "cell_type": "markdown",
   "metadata": {},
   "source": [
    "* Данных достаточно много, а значит можно воспользоваться ЦПТ, которая гласит, что чем больше выборка тем лучше она апроксимируется нормальным распределением, приведем к стандартному нормальному распределению N ~ (0, 1)"
   ]
  },
  {
   "cell_type": "code",
   "execution_count": 46,
   "metadata": {},
   "outputs": [],
   "source": [
    "test4[\"metrics_norm\"]=(test4[\"metrics\"]-test4[\"metrics\"].mean())/test4[\"metrics\"].std()"
   ]
  },
  {
   "cell_type": "markdown",
   "metadata": {},
   "source": [
    "* По идее теперь дисперсия должна быть достаточна близка к единице, либо единицей, проверим это"
   ]
  },
  {
   "cell_type": "code",
   "execution_count": 47,
   "metadata": {},
   "outputs": [
    {
     "name": "stdout",
     "output_type": "stream",
     "text": [
      "Дисперсия после нормализации:  0.9999999999997893\n"
     ]
    }
   ],
   "source": [
    "print(\"Дисперсия после нормализации: \", test4[\"metrics_norm\"].var())"
   ]
  },
  {
   "cell_type": "markdown",
   "metadata": {},
   "source": [
    "* Моя гипотеза подтвердилась "
   ]
  },
  {
   "cell_type": "markdown",
   "metadata": {},
   "source": [
    "#### Вывод:\n",
    "Мне кажется понижение дисперсии за счет удаления выбросов не всегда подходит под условие задание, а так как условие я не знаю из-за анонимности данных, я попробовал минимизировать дисперсию с помощью апроксимации нормальным распределением."
   ]
  },
  {
   "cell_type": "markdown",
   "metadata": {
    "id": "mmizRSRzmfOt"
   },
   "source": [
    "### Задание 5"
   ]
  },
  {
   "cell_type": "markdown",
   "metadata": {
    "id": "8GuzppHAhyiJ"
   },
   "source": [
    "\n",
    "\n",
    "Есть эксперимент с поисковыми подсказками. Вы хотите узнать, как изменился CTR в каждой группе эксперимента.\n",
    "\n",
    "**Данные**\n",
    "\n",
    "- id - уникальный идентификатор пользователя\n",
    "- action -\n",
    "- view - кол-во просмотров на одну сессию\n",
    "- variant - вариант a/b теста, где 0 - это версия \"A\", 1 -  версия \"B\".\n",
    "\n",
    "**Задача**\n",
    "\n",
    "- сформировать метрику для оценки эксперимента\n",
    "- подобрать критерий под особенности данных\n",
    "- сделать вывод о значимости эффекта\n",
    "\n",
    "**Данные** \n",
    "\n",
    "[Ссылка на данные](https://www.dropbox.com/s/fdki267uilkfq7l/task5.csv)"
   ]
  },
  {
   "cell_type": "code",
   "execution_count": 48,
   "metadata": {
    "id": "iNTuJpe3hyiK"
   },
   "outputs": [
    {
     "data": {
      "text/html": [
       "<div>\n",
       "<style scoped>\n",
       "    .dataframe tbody tr th:only-of-type {\n",
       "        vertical-align: middle;\n",
       "    }\n",
       "\n",
       "    .dataframe tbody tr th {\n",
       "        vertical-align: top;\n",
       "    }\n",
       "\n",
       "    .dataframe thead th {\n",
       "        text-align: right;\n",
       "    }\n",
       "</style>\n",
       "<table border=\"1\" class=\"dataframe\">\n",
       "  <thead>\n",
       "    <tr style=\"text-align: right;\">\n",
       "      <th></th>\n",
       "      <th>id</th>\n",
       "      <th>variant</th>\n",
       "      <th>view</th>\n",
       "      <th>action</th>\n",
       "    </tr>\n",
       "  </thead>\n",
       "  <tbody>\n",
       "    <tr>\n",
       "      <th>0</th>\n",
       "      <td>88258</td>\n",
       "      <td>A</td>\n",
       "      <td>10</td>\n",
       "      <td>2</td>\n",
       "    </tr>\n",
       "    <tr>\n",
       "      <th>1</th>\n",
       "      <td>109938</td>\n",
       "      <td>A</td>\n",
       "      <td>3</td>\n",
       "      <td>1</td>\n",
       "    </tr>\n",
       "    <tr>\n",
       "      <th>2</th>\n",
       "      <td>117644</td>\n",
       "      <td>A</td>\n",
       "      <td>7</td>\n",
       "      <td>5</td>\n",
       "    </tr>\n",
       "    <tr>\n",
       "      <th>3</th>\n",
       "      <td>374080</td>\n",
       "      <td>A</td>\n",
       "      <td>9</td>\n",
       "      <td>9</td>\n",
       "    </tr>\n",
       "    <tr>\n",
       "      <th>4</th>\n",
       "      <td>662082</td>\n",
       "      <td>A</td>\n",
       "      <td>1</td>\n",
       "      <td>1</td>\n",
       "    </tr>\n",
       "    <tr>\n",
       "      <th>8186</th>\n",
       "      <td>7706713</td>\n",
       "      <td>B</td>\n",
       "      <td>1</td>\n",
       "      <td>1</td>\n",
       "    </tr>\n",
       "    <tr>\n",
       "      <th>8187</th>\n",
       "      <td>7875223</td>\n",
       "      <td>B</td>\n",
       "      <td>1</td>\n",
       "      <td>1</td>\n",
       "    </tr>\n",
       "    <tr>\n",
       "      <th>8188</th>\n",
       "      <td>4617329</td>\n",
       "      <td>B</td>\n",
       "      <td>9</td>\n",
       "      <td>4</td>\n",
       "    </tr>\n",
       "    <tr>\n",
       "      <th>8189</th>\n",
       "      <td>5394863</td>\n",
       "      <td>B</td>\n",
       "      <td>5</td>\n",
       "      <td>1</td>\n",
       "    </tr>\n",
       "    <tr>\n",
       "      <th>8190</th>\n",
       "      <td>7558165</td>\n",
       "      <td>B</td>\n",
       "      <td>1</td>\n",
       "      <td>1</td>\n",
       "    </tr>\n",
       "  </tbody>\n",
       "</table>\n",
       "</div>"
      ],
      "text/plain": [
       "           id variant  view  action\n",
       "0       88258       A    10       2\n",
       "1      109938       A     3       1\n",
       "2      117644       A     7       5\n",
       "3      374080       A     9       9\n",
       "4      662082       A     1       1\n",
       "8186  7706713       B     1       1\n",
       "8187  7875223       B     1       1\n",
       "8188  4617329       B     9       4\n",
       "8189  5394863       B     5       1\n",
       "8190  7558165       B     1       1"
      ]
     },
     "execution_count": 48,
     "metadata": {},
     "output_type": "execute_result"
    }
   ],
   "source": [
    "test5= pd.read_csv('/Users/artemhorosilov/Downloads/task5.csv')\n",
    "pd.concat([test5.head(), test5.tail()])"
   ]
  },
  {
   "cell_type": "markdown",
   "metadata": {},
   "source": [
    "* Разделим датасет на контрольную и тестовую группу"
   ]
  },
  {
   "cell_type": "code",
   "execution_count": 49,
   "metadata": {},
   "outputs": [],
   "source": [
    "test5A=test5[test5[\"variant\"]==\"A\"]\n",
    "test5B=test5[test5[\"variant\"]==\"B\"]"
   ]
  },
  {
   "cell_type": "markdown",
   "metadata": {},
   "source": [
    "* Предположим что это данные взяты с Яндекс маркета и если view обозначает количесвто просмотренных товаров, то action значит количесвто купленных. В качестве метрики возьмем \"Конверсию\"."
   ]
  },
  {
   "cell_type": "code",
   "execution_count": 50,
   "metadata": {},
   "outputs": [],
   "source": [
    "test5[\"metrics\"]=test5[\"action\"]/test5[\"view\"] #конверсия"
   ]
  },
  {
   "cell_type": "markdown",
   "metadata": {},
   "source": [
    "* Посчитаю конверсию для каждой выборки по отдельности, так как я делю на количество наблюдений, а тестовая выборка должна помаксимуму отражать контрольную. "
   ]
  },
  {
   "cell_type": "code",
   "execution_count": 51,
   "metadata": {},
   "outputs": [
    {
     "name": "stderr",
     "output_type": "stream",
     "text": [
      "/var/folders/pj/d6d294yj48d91tmrgk29qv540000gn/T/ipykernel_37980/1476311300.py:1: SettingWithCopyWarning: \n",
      "A value is trying to be set on a copy of a slice from a DataFrame.\n",
      "Try using .loc[row_indexer,col_indexer] = value instead\n",
      "\n",
      "See the caveats in the documentation: https://pandas.pydata.org/pandas-docs/stable/user_guide/indexing.html#returning-a-view-versus-a-copy\n",
      "  test5A[\"metrics\"]=test5A[\"action\"]/test5A[\"view\"]\n",
      "/var/folders/pj/d6d294yj48d91tmrgk29qv540000gn/T/ipykernel_37980/1476311300.py:2: SettingWithCopyWarning: \n",
      "A value is trying to be set on a copy of a slice from a DataFrame.\n",
      "Try using .loc[row_indexer,col_indexer] = value instead\n",
      "\n",
      "See the caveats in the documentation: https://pandas.pydata.org/pandas-docs/stable/user_guide/indexing.html#returning-a-view-versus-a-copy\n",
      "  test5B[\"metrics\"]=test5B[\"action\"]/test5B[\"view\"]\n"
     ]
    }
   ],
   "source": [
    "test5A[\"metrics\"]=test5A[\"action\"]/test5A[\"view\"]\n",
    "test5B[\"metrics\"]=test5B[\"action\"]/test5B[\"view\"]"
   ]
  },
  {
   "cell_type": "markdown",
   "metadata": {},
   "source": [
    "* Я хочу попробовать использовать t-test, для этого проверю гомогенность дисперсии и нормальность распределения"
   ]
  },
  {
   "cell_type": "code",
   "execution_count": 52,
   "metadata": {},
   "outputs": [
    {
     "data": {
      "text/plain": [
       "LeveneResult(statistic=0.5797216434192661, pvalue=0.44644337372072784)"
      ]
     },
     "execution_count": 52,
     "metadata": {},
     "output_type": "execute_result"
    }
   ],
   "source": [
    "from scipy.stats import levene\n",
    "levene(test5A[\"metrics\"], test5B[\"metrics\"])"
   ]
  },
  {
   "cell_type": "markdown",
   "metadata": {},
   "source": [
    "* В критерии Левена, нулевой гипотезой является гипотеза о том, что данные выборки удовлетворяют свойству гомогенности дисперсий. P-value этой гипотезы получилось 0.446. Это значение больше уровня значимости, установленного в 5%, значит у нас нет оснований отвергнуть нулевую гипотезу и считать, что выборка имеет негомогенные дисперсии."
   ]
  },
  {
   "cell_type": "code",
   "execution_count": 53,
   "metadata": {},
   "outputs": [
    {
     "data": {
      "image/png": "[encoded data removed]",
      "text/plain": [
       "<Figure size 640x480 with 1 Axes>"
      ]
     },
     "metadata": {},
     "output_type": "display_data"
    }
   ],
   "source": [
    "fig0 = qqplot(np.array(test5[\"metrics\"]), norm, line='45', fit=True)"
   ]
  },
  {
   "cell_type": "markdown",
   "metadata": {},
   "source": [
    "* Данные распределены не очень норммально, но есть просвет в центре, попробую избавиться от выбросов и посмотреть опять"
   ]
  },
  {
   "cell_type": "code",
   "execution_count": 54,
   "metadata": {},
   "outputs": [],
   "source": [
    "test5N=test5[ (test5.metrics<test5.metrics.quantile(0.95)) & (test5.metrics>test5.metrics.quantile(0.05))]"
   ]
  },
  {
   "cell_type": "code",
   "execution_count": 55,
   "metadata": {},
   "outputs": [
    {
     "data": {
      "image/png": "[encoded data removed]",
      "text/plain": [
       "<Figure size 640x480 with 1 Axes>"
      ]
     },
     "metadata": {},
     "output_type": "display_data"
    }
   ],
   "source": [
    "fig0 = qqplot(np.array(test5N[\"metrics\"]), norm, line='45', fit=True)"
   ]
  },
  {
   "cell_type": "markdown",
   "metadata": {},
   "source": [
    "* Ситуация не изменилась, зато я убедился, что данные распредлены по закону отличному от нормального"
   ]
  },
  {
   "cell_type": "markdown",
   "metadata": {},
   "source": [
    "* Попробую приблизить распредление к нормальному, по-другому, например, с помощью логарифмического преобразования\n",
    "Взгляну на гистограму"
   ]
  },
  {
   "cell_type": "code",
   "execution_count": 56,
   "metadata": {},
   "outputs": [
    {
     "data": {
      "text/plain": [
       "<AxesSubplot:>"
      ]
     },
     "execution_count": 56,
     "metadata": {},
     "output_type": "execute_result"
    },
    {
     "data": {
      "image/png": "[encoded data removed]",
      "text/plain": [
       "<Figure size 640x480 with 1 Axes>"
      ]
     },
     "metadata": {},
     "output_type": "display_data"
    }
   ],
   "source": [
    "test5.metrics.hist()"
   ]
  },
  {
   "cell_type": "markdown",
   "metadata": {},
   "source": [
    "* Возьмем натуральный логарифм от каждого значения"
   ]
  },
  {
   "cell_type": "code",
   "execution_count": 57,
   "metadata": {},
   "outputs": [
    {
     "data": {
      "text/plain": [
       "<AxesSubplot:>"
      ]
     },
     "execution_count": 57,
     "metadata": {},
     "output_type": "execute_result"
    },
    {
     "data": {
      "image/png": "[encoded data removed]",
      "text/plain": [
       "<Figure size 640x480 with 1 Axes>"
      ]
     },
     "metadata": {},
     "output_type": "display_data"
    }
   ],
   "source": [
    "test5['nat'] = np.log(test5['metrics'])\n",
    "test5.nat.hist()"
   ]
  },
  {
   "cell_type": "markdown",
   "metadata": {},
   "source": [
    "* Логарифм не привел ни к чему, поэтому t-test использовать не можем"
   ]
  },
  {
   "cell_type": "markdown",
   "metadata": {},
   "source": [
    "* Выборки независимы друг от друга, поэтому я буду использовать u-test."
   ]
  },
  {
   "cell_type": "code",
   "execution_count": 58,
   "metadata": {},
   "outputs": [
    {
     "data": {
      "text/plain": [
       "MannwhitneyuResult(statistic=8325404.5, pvalue=0.3570928785921109)"
      ]
     },
     "execution_count": 58,
     "metadata": {},
     "output_type": "execute_result"
    }
   ],
   "source": [
    "st.mannwhitneyu (test5A[\"metrics\"], test5B[\"metrics\"])"
   ]
  },
  {
   "cell_type": "markdown",
   "metadata": {},
   "source": [
    "#### Вывод: pvalue равно 0.357, что соотвествует 35,7%. Это значение больше уровня значимости, установленного в 5%, значит нет оснований отвергать нулевую гипотезу об отсуствии различий."
   ]
  },
  {
   "cell_type": "markdown",
   "metadata": {},
   "source": [
    "#### Вообщем вводить фичу смело можно, так как тестовая группа по сравнению с контрольной показала себя очень хорошо, конечно же если мы говорим о максимизации прибыли."
   ]
  }
 ],
 "metadata": {
  "colab": {
   "provenance": []
  },
  "kernelspec": {
   "display_name": "Python 3 (ipykernel)",
   "language": "python",
   "name": "python3"
  },
  "language_info": {
   "codemirror_mode": {
    "name": "ipython",
    "version": 3
   },
   "file_extension": ".py",
   "mimetype": "text/x-python",
   "name": "python",
   "nbconvert_exporter": "python",
   "pygments_lexer": "ipython3",
   "version": "3.9.13"
  }
 },
 "nbformat": 4,
 "nbformat_minor": 1
}
